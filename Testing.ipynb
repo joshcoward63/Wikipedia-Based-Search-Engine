{
 "cells": [
  {
   "cell_type": "code",
   "execution_count": 1,
   "id": "emerging-monroe",
   "metadata": {},
   "outputs": [
    {
     "name": "stderr",
     "output_type": "stream",
     "text": [
      "C:\\Users\\Josh\\Anaconda3\\lib\\site-packages\\numpy\\_distributor_init.py:32: UserWarning: loaded more than 1 DLL from .libs:\n",
      "C:\\Users\\Josh\\Anaconda3\\lib\\site-packages\\numpy\\.libs\\libopenblas.JPIJNSWNNAN3CE6LLI5FWSPHUT2VXMTH.gfortran-win_amd64.dll\n",
      "C:\\Users\\Josh\\Anaconda3\\lib\\site-packages\\numpy\\.libs\\libopenblas.PYQHXLVVQ7VESDPUVUADXEVJOBGHJPAY.gfortran-win_amd64.dll\n",
      "  stacklevel=1)\n"
     ]
    }
   ],
   "source": [
    "import pandas as pd\n",
    "import numpy as np\n",
    "from tqdm.notebook import tqdm\n",
    "from nltk.corpus import stopwords\n",
    "from nltk.tokenize import word_tokenize\n",
    "from nltk.stem import WordNetLemmatizer\n",
    "from collections import Counter\n",
    "import pickle\n",
    "import string\n",
    "import json\n",
    "from os.path import exists"
   ]
  },
  {
   "cell_type": "code",
   "execution_count": 21,
   "id": "mounted-letter",
   "metadata": {},
   "outputs": [],
   "source": [
    "#Using a sample size of 1000 for testing purposes\n",
    "df = pd.read_csv(\"C:\\\\Users\\\\Josh\\\\Downloads\\\\project_1_Wiki_sample.csv\")"
   ]
  },
  {
   "cell_type": "code",
   "execution_count": 24,
   "id": "novel-individual",
   "metadata": {},
   "outputs": [
    {
     "data": {
      "text/plain": [
       "1"
      ]
     },
     "execution_count": 24,
     "metadata": {},
     "output_type": "execute_result"
    }
   ],
   "source": [
    "df['id'][0]"
   ]
  },
  {
   "cell_type": "code",
   "execution_count": 3,
   "id": "careful-madison",
   "metadata": {},
   "outputs": [],
   "source": [
    "#Initializing preproccesing tools and a empty dictionary to store processed data\n",
    "lemmatizer = WordNetLemmatizer()\n",
    "stop_words = set(stopwords.words('english'))\n",
    "stop_words.add(\".\")\n",
    "stop_words.add(\",\")\n",
    "processed_collection = {}"
   ]
  },
  {
   "cell_type": "code",
   "execution_count": null,
   "id": "incorporated-dinner",
   "metadata": {
    "scrolled": true
   },
   "outputs": [
    {
     "data": {
      "application/vnd.jupyter.widget-view+json": {
       "model_id": "640bd6b4fb1f440f95e30999c48ec27b",
       "version_major": 2,
       "version_minor": 0
      },
      "text/plain": [
       "HBox(children=(FloatProgress(value=1.0, bar_style='info', layout=Layout(width='20px'), max=1.0), HTML(value=''…"
      ]
     },
     "metadata": {},
     "output_type": "display_data"
    }
   ],
   "source": [
    "#The following code processes the contents of each document and saves the information into the variable processed_collection\n",
    "#Processed_collection is formatted {document_id: {title: 'document_title', content: \"document_content\"}}\n",
    "for chunk in tqdm(pd.read_csv(\"D:\\Downloads\\project_1_Wiki_sample.csv\", chunksize=1000)):\n",
    "    for index, row in chunk.iterrows():\n",
    "        word_tokens = word_tokenize(row['content'])\n",
    "        word_tokens = set(word_tokens)\n",
    "        word_tokens = word_tokens -stop_words\n",
    "        word_tokens = [lemmatizer.lemmatize(x.lower()) for x in word_tokens]        \n",
    "        processed_collection[row['id']] = {\"content\":word_tokens}"
   ]
  },
  {
   "cell_type": "code",
   "execution_count": null,
   "id": "wooden-israeli",
   "metadata": {},
   "outputs": [],
   "source": [
    "try:\n",
    "    geeky_file = open('processed', 'wb')\n",
    "    pickle.dump(processed_collection, geeky_file)\n",
    "    geeky_file.close()\n",
    "  \n",
    "except:\n",
    "    print(\"Something went wrong\")"
   ]
  },
  {
   "cell_type": "code",
   "execution_count": null,
   "id": "seven-expert",
   "metadata": {},
   "outputs": [],
   "source": []
  },
  {
   "cell_type": "code",
   "execution_count": null,
   "id": "random-senate",
   "metadata": {},
   "outputs": [],
   "source": [
    "#The following code processes the contents of each document and saves the information into the variable processed_collection\n",
    "#Processed_collection is formatted {document_id: {title: 'document_title', content: \"document_content\"}}\n",
    "for index, row in df.iterrows():\n",
    "    word_tokens = word_tokenize(row['content'])\n",
    "    word_tokens = set(word_tokens)\n",
    "    word_tokens = word_tokens - stop_words\n",
    "    word_tokens = [lemmatizer.lemmatize(x.lower()) for x in word_tokens]   \n",
    "\n",
    "    processed_collection[row['id']] = {\"content\":word_tokens}"
   ]
  },
  {
   "cell_type": "code",
   "execution_count": null,
   "id": "reported-translator",
   "metadata": {},
   "outputs": [],
   "source": [
    "#The following code displays an example of a documents content after being processed \n",
    "processed_collection[1]['content']"
   ]
  },
  {
   "cell_type": "code",
   "execution_count": null,
   "id": "wicked-defense",
   "metadata": {},
   "outputs": [],
   "source": [
    "#The following function is used to created an inverted\n",
    "#The parameter 'collection' is a dictionary that contains a nested dictionary where one of the keys must be \"content\"\n",
    "def create_inverted_index(collection):\n",
    "    inverted_index = {}\n",
    "    for doc in tqdm(collection):\n",
    "        for word in collection[doc]['content']:\n",
    "            if word not in inverted_index:\n",
    "                inverted_index[word] = [[doc,[lemmatizer.lemmatize(x.lower()) for x in df['content'][doc-1].split()].count(word)]\n",
    "            else:\n",
    "                inverted_index[word].append([doc, [lemmatizer.lemmatize(x.lower()) for x in df['content'][doc-1].split()].count(word)])\n",
    "    return inverted_index"
   ]
  },
  {
   "cell_type": "code",
   "execution_count": null,
   "id": "technological-procedure",
   "metadata": {},
   "outputs": [],
   "source": [
    "file_to_read = open(\"processed\", \"rb\")\n",
    "processed_collection = pickle.load(file_to_read)"
   ]
  },
  {
   "cell_type": "code",
   "execution_count": null,
   "id": "remarkable-uruguay",
   "metadata": {},
   "outputs": [],
   "source": [
    "#The inverted_index created from the processed collection\n",
    "inverted_index = create_inverted_index(processed_collection)"
   ]
  },
  {
   "cell_type": "code",
   "execution_count": null,
   "id": "stable-bunch",
   "metadata": {},
   "outputs": [],
   "source": [
    "try:\n",
    "    geeky_file2 = open(\"inverted_index\", 'wb')\n",
    "    pickle.dump(inverted_index, geeky_file2)\n",
    "    geeky_file2.close()\n",
    "except:\n",
    "    print(\"Something went wrong\")"
   ]
  },
  {
   "cell_type": "code",
   "execution_count": 2,
   "id": "outside-poetry",
   "metadata": {},
   "outputs": [],
   "source": [
    "file_to_read = open(\"inverted_index\", \"rb\")\n",
    "inverted_index = pickle.load(file_to_read)"
   ]
  },
  {
   "cell_type": "code",
   "execution_count": 5,
   "id": "smart-radar",
   "metadata": {},
   "outputs": [],
   "source": [
    "#The following is just sample data for testing the function in the cell below\n",
    "query = \"fried chicken\"\n",
    "tfidf_1 = {\"fried\": [1 , 2 ,4, 8, 10], \"chicken\": [1,4,8,9, 10, 12]}"
   ]
  },
  {
   "cell_type": "code",
   "execution_count": 5,
   "id": "convinced-corps",
   "metadata": {},
   "outputs": [],
   "source": [
    "import itertools\n",
    "import collections\n",
    "def getResults(query, tfidf):\n",
    "    query = [lemmatizer.lemmatize(x.lower()) for x  in word_tokenize(query)]\n",
    "    list_of_documents = []\n",
    "    for token in query:\n",
    "        if token in tfidf.keys():\n",
    "            list_of_documents.append(set(tfidf[token]))\n",
    "#     list_of_documents = set(itertools.chain.from_iterable(list_of_documents))\n",
    "    list_of_documents = list(set.intersection(*map(set,list_of_documents)))\n",
    "    \n",
    "    unchecked_tokens = query\n",
    "    while len(list_of_documents) < 6 and not(len(unchecked_tokens) == 0):\n",
    "        d = {}\n",
    "        for token in unchecked_tokens:\n",
    "            d[token] = len(tfidf[token])\n",
    "        lowest = min(d, key=d.get)\n",
    "        unchecked_tokens.pop(list(d.keys()).index(lowest))\n",
    "        list_of_documents = list(set(list_of_documents).union(set(tfidf[lowest])))\n",
    "    return list_of_documents, query    \n",
    "            \n",
    "    "
   ]
  },
  {
   "cell_type": "code",
   "execution_count": 65,
   "id": "instructional-berlin",
   "metadata": {},
   "outputs": [
    {
     "ename": "AttributeError",
     "evalue": "'dict' object has no attribute 'has_key'",
     "output_type": "error",
     "traceback": [
      "\u001b[1;31m---------------------------------------------------------------------------\u001b[0m",
      "\u001b[1;31mAttributeError\u001b[0m                            Traceback (most recent call last)",
      "\u001b[1;32m<ipython-input-65-7dcb682a9be8>\u001b[0m in \u001b[0;36m<module>\u001b[1;34m\u001b[0m\n\u001b[1;32m----> 1\u001b[1;33m \u001b[0mlist_of_cannidates\u001b[0m\u001b[1;33m,\u001b[0m \u001b[0mclean_query\u001b[0m \u001b[1;33m=\u001b[0m \u001b[0mgetResults\u001b[0m\u001b[1;33m(\u001b[0m\u001b[0mquery\u001b[0m\u001b[1;33m,\u001b[0m\u001b[0mtfidf_1\u001b[0m\u001b[1;33m)\u001b[0m\u001b[1;33m\u001b[0m\u001b[1;33m\u001b[0m\u001b[0m\n\u001b[0m",
      "\u001b[1;32m<ipython-input-64-6c020fae589b>\u001b[0m in \u001b[0;36mgetResults\u001b[1;34m(query, tfidf)\u001b[0m\n\u001b[0;32m      5\u001b[0m     \u001b[0mlist_of_documents\u001b[0m \u001b[1;33m=\u001b[0m \u001b[1;33m[\u001b[0m\u001b[1;33m]\u001b[0m\u001b[1;33m\u001b[0m\u001b[1;33m\u001b[0m\u001b[0m\n\u001b[0;32m      6\u001b[0m     \u001b[1;32mfor\u001b[0m \u001b[0mtoken\u001b[0m \u001b[1;32min\u001b[0m \u001b[0mquery\u001b[0m\u001b[1;33m:\u001b[0m\u001b[1;33m\u001b[0m\u001b[1;33m\u001b[0m\u001b[0m\n\u001b[1;32m----> 7\u001b[1;33m         \u001b[1;32mif\u001b[0m \u001b[0mtfidf\u001b[0m\u001b[1;33m.\u001b[0m\u001b[0mhas_key\u001b[0m\u001b[1;33m(\u001b[0m\u001b[0mtoken\u001b[0m\u001b[1;33m)\u001b[0m\u001b[1;33m:\u001b[0m\u001b[1;33m\u001b[0m\u001b[1;33m\u001b[0m\u001b[0m\n\u001b[0m\u001b[0;32m      8\u001b[0m             \u001b[0mlist_of_documents\u001b[0m\u001b[1;33m.\u001b[0m\u001b[0mappend\u001b[0m\u001b[1;33m(\u001b[0m\u001b[0mset\u001b[0m\u001b[1;33m(\u001b[0m\u001b[0mtfidf\u001b[0m\u001b[1;33m[\u001b[0m\u001b[0mtoken\u001b[0m\u001b[1;33m]\u001b[0m\u001b[1;33m)\u001b[0m\u001b[1;33m)\u001b[0m\u001b[1;33m\u001b[0m\u001b[1;33m\u001b[0m\u001b[0m\n\u001b[0;32m      9\u001b[0m \u001b[1;31m#     list_of_documents = set(itertools.chain.from_iterable(list_of_documents))\u001b[0m\u001b[1;33m\u001b[0m\u001b[1;33m\u001b[0m\u001b[1;33m\u001b[0m\u001b[0m\n",
      "\u001b[1;31mAttributeError\u001b[0m: 'dict' object has no attribute 'has_key'"
     ]
    }
   ],
   "source": [
    "list_of_cannidates, clean_query = getResults(query,tfidf_1)"
   ]
  },
  {
   "cell_type": "code",
   "execution_count": 6,
   "id": "physical-director",
   "metadata": {},
   "outputs": [],
   "source": [
    "def ranking(clean_query, list_of_cannidates, tfidf):\n",
    "    total_num_of_docs = len(df)\n",
    "    term_probs = {}\n",
    "    for doc in list_of_cannidates:\n",
    "        term_probs[doc] = 1\n",
    "        for term in clean_query:\n",
    "            temp_list = [lemmatizer.lemmatize(x.lower()) for x in word_tokenize(df['content'][doc-1])]\n",
    "            if temp_list.count(term) == 0:\n",
    "                term_probs[doc] = term_probs[doc] * 0.00001 * ((0.00001) / total_num_of_docs)\n",
    "            else:\n",
    "                term_probs[doc] = term_probs[doc] * (temp_list.count(term) / len(temp_list)) * (len(tfidf[term]) / total_num_of_docs) \n",
    "    return term_probs"
   ]
  },
  {
   "cell_type": "code",
   "execution_count": 7,
   "id": "closed-button",
   "metadata": {},
   "outputs": [],
   "source": [
    "from flask import Flask, render_template,request, redirect, request"
   ]
  },
  {
   "cell_type": "code",
   "execution_count": 22,
   "id": "alone-missouri",
   "metadata": {},
   "outputs": [],
   "source": [
    "df2 = pd.read_csv(\"C:\\\\Users\\\\Josh\\\\Desktop\\\\cs437p1\\\\project_1_AOL_query_log\\\\Clean-Data-01.txt\",sep='\\t')\n",
    "df2 = df2.append(pd.read_csv(\"C:\\\\Users\\\\Josh\\\\Desktop\\\\cs437p1\\\\project_1_AOL_query_log\\\\Clean-Data-02.txt\",sep='\\t'))\n",
    "df2 = df2.append(pd.read_csv(\"C:\\\\Users\\\\Josh\\\\Desktop\\\\cs437p1\\\\project_1_AOL_query_log\\\\Clean-Data-03.txt\",sep='\\t'))\n",
    "df2 = df2.append(pd.read_csv(\"C:\\\\Users\\\\Josh\\\\Desktop\\\\cs437p1\\\\project_1_AOL_query_log\\\\Clean-Data-04.txt\",sep='\\t'))\n",
    "df2 = df2.append(pd.read_csv(\"C:\\\\Users\\\\Josh\\\\Desktop\\\\cs437p1\\\\project_1_AOL_query_log\\\\Clean-Data-05.txt\",sep='\\t'))\n",
    "df2[\"Query\"] = df2[\"Query\"].astype(str)\n",
    "df2[\"QueryTime\"]= pd.to_datetime(df2[\"QueryTime\"])"
   ]
  },
  {
   "cell_type": "code",
   "execution_count": 24,
   "id": "pursuant-wireless",
   "metadata": {},
   "outputs": [
    {
     "name": "stdout",
     "output_type": "stream",
     "text": [
      " * Serving Flask app \"__main__\" (lazy loading)\n",
      " * Environment: production\n",
      "   WARNING: This is a development server. Do not use it in a production deployment.\n",
      "   Use a production WSGI server instead.\n",
      " * Debug mode: off\n"
     ]
    },
    {
     "name": "stderr",
     "output_type": "stream",
     "text": [
      " * Running on http://0.0.0.0:5505/ (Press CTRL+C to quit)\n",
      "192.168.0.89 - - [16/Oct/2021 01:38:20] \"GET / HTTP/1.1\" 200 -\n",
      "192.168.0.89 - - [16/Oct/2021 01:38:20] \"GET /static/index.js HTTP/1.1\" 304 -\n",
      "192.168.0.89 - - [16/Oct/2021 01:38:20] \"GET /static/Search.gif HTTP/1.1\" 200 -\n",
      "192.168.0.89 - - [16/Oct/2021 01:38:37] \"POST /suggest HTTP/1.1\" 200 -\n",
      "192.168.0.89 - - [16/Oct/2021 01:38:37] \"POST /suggest HTTP/1.1\" 200 -\n",
      "192.168.0.89 - - [16/Oct/2021 01:38:39] \"POST /suggest HTTP/1.1\" 200 -\n",
      "192.168.0.89 - - [16/Oct/2021 01:38:39] \"POST /suggest HTTP/1.1\" 200 -\n",
      "192.168.0.89 - - [16/Oct/2021 01:38:39] \"POST /suggest HTTP/1.1\" 200 -\n",
      "192.168.0.89 - - [16/Oct/2021 01:38:44] \"POST /suggest HTTP/1.1\" 200 -\n",
      "192.168.0.89 - - [16/Oct/2021 01:38:49] \"POST /suggest HTTP/1.1\" 200 -\n",
      "192.168.0.89 - - [16/Oct/2021 01:38:55] \"POST /suggest HTTP/1.1\" 200 -\n",
      "192.168.0.89 - - [16/Oct/2021 01:38:55] \"POST /suggest HTTP/1.1\" 200 -\n"
     ]
    },
    {
     "name": "stdout",
     "output_type": "stream",
     "text": [
      "resultsss pizza dough\n"
     ]
    },
    {
     "name": "stderr",
     "output_type": "stream",
     "text": [
      "192.168.0.89 - - [16/Oct/2021 01:38:56] \"POST / HTTP/1.1\" 200 -\n",
      "192.168.0.89 - - [16/Oct/2021 01:38:58] \"POST /suggest HTTP/1.1\" 200 -\n",
      "192.168.0.89 - - [16/Oct/2021 01:41:19] \"GET / HTTP/1.1\" 200 -\n",
      "192.168.0.89 - - [16/Oct/2021 01:41:27] \"POST /suggest HTTP/1.1\" 200 -\n",
      "192.168.0.89 - - [16/Oct/2021 01:41:30] \"POST /suggest HTTP/1.1\" 200 -\n",
      "192.168.0.89 - - [16/Oct/2021 01:41:55] \"POST /suggest HTTP/1.1\" 200 -\n",
      "192.168.0.89 - - [16/Oct/2021 01:42:06] \"GET / HTTP/1.1\" 200 -\n",
      "192.168.0.89 - - [16/Oct/2021 01:42:17] \"POST /suggest HTTP/1.1\" 200 -\n",
      "192.168.0.89 - - [16/Oct/2021 01:42:17] \"POST /suggest HTTP/1.1\" 200 -\n",
      "192.168.0.89 - - [16/Oct/2021 01:44:10] \"GET / HTTP/1.1\" 200 -\n",
      "192.168.0.89 - - [16/Oct/2021 01:44:19] \"POST /suggest HTTP/1.1\" 200 -\n",
      "192.168.0.89 - - [16/Oct/2021 01:44:19] \"POST /suggest HTTP/1.1\" 200 -\n",
      "192.168.0.89 - - [16/Oct/2021 01:44:19] \"POST /suggest HTTP/1.1\" 200 -\n",
      "192.168.0.89 - - [16/Oct/2021 01:44:34] \"POST /suggest HTTP/1.1\" 200 -\n",
      "192.168.0.89 - - [16/Oct/2021 01:44:47] \"POST /suggest HTTP/1.1\" 200 -\n",
      "192.168.0.89 - - [16/Oct/2021 01:44:47] \"POST /suggest HTTP/1.1\" 200 -\n",
      "192.168.0.89 - - [16/Oct/2021 01:44:59] \"GET /action_page.php?myQuery=ham+glazes HTTP/1.1\" 404 -\n",
      "192.168.0.89 - - [16/Oct/2021 01:44:59] \"POST /suggest HTTP/1.1\" 200 -\n",
      "192.168.0.89 - - [16/Oct/2021 01:45:00] \"POST /suggest HTTP/1.1\" 200 -\n",
      "192.168.0.89 - - [16/Oct/2021 01:45:01] \"POST /suggest HTTP/1.1\" 200 -\n",
      "192.168.0.89 - - [16/Oct/2021 01:45:01] \"POST /suggest HTTP/1.1\" 200 -\n",
      "192.168.0.89 - - [16/Oct/2021 01:45:02] \"POST /suggest HTTP/1.1\" 200 -\n",
      "192.168.0.89 - - [16/Oct/2021 01:45:02] \"POST /suggest HTTP/1.1\" 200 -\n",
      "192.168.0.89 - - [16/Oct/2021 01:45:02] \"POST /suggest HTTP/1.1\" 200 -\n",
      "192.168.0.89 - - [16/Oct/2021 01:45:03] \"POST /suggest HTTP/1.1\" 200 -\n",
      "192.168.0.89 - - [16/Oct/2021 01:45:03] \"POST /suggest HTTP/1.1\" 200 -\n",
      "192.168.0.89 - - [16/Oct/2021 01:45:13] \"POST /suggest HTTP/1.1\" 200 -\n",
      "192.168.0.89 - - [16/Oct/2021 01:45:14] \"POST /suggest HTTP/1.1\" 200 -\n",
      "192.168.0.89 - - [16/Oct/2021 01:45:50] \"POST /suggest HTTP/1.1\" 200 -\n",
      "192.168.0.89 - - [16/Oct/2021 01:45:53] \"POST /suggest HTTP/1.1\" 200 -\n",
      "192.168.0.89 - - [16/Oct/2021 01:46:00] \"POST /suggest HTTP/1.1\" 200 -\n"
     ]
    },
    {
     "name": "stdout",
     "output_type": "stream",
     "text": [
      "resultsss "
     ]
    },
    {
     "name": "stderr",
     "output_type": "stream",
     "text": [
      "192.168.0.89 - - [16/Oct/2021 01:46:02] \"POST /suggest HTTP/1.1"
     ]
    },
    {
     "name": "stdout",
     "output_type": "stream",
     "text": [
      "ham glaze"
     ]
    },
    {
     "name": "stderr",
     "output_type": "stream",
     "text": [
      "\" 200 -\n"
     ]
    },
    {
     "name": "stdout",
     "output_type": "stream",
     "text": [
      "\n"
     ]
    },
    {
     "name": "stderr",
     "output_type": "stream",
     "text": [
      "192.168.0.89 - - [16/Oct/2021 01:46:03] \"POST /suggest HTTP/1.1\" 200 -\n",
      "192.168.0.89 - - [16/Oct/2021 01:46:03] \"POST /suggest HTTP/1.1\" 200 -\n",
      "192.168.0.89 - - [16/Oct/2021 01:46:03] \"POST /suggest HTTP/1.1\" 200 -\n",
      "192.168.0.89 - - [16/Oct/2021 01:46:03] \"POST /suggest HTTP/1.1\" 200 -\n",
      "192.168.0.89 - - [16/Oct/2021 01:46:03] \"POST /suggest HTTP/1.1\" 200 -\n",
      "192.168.0.89 - - [16/Oct/2021 01:46:05] \"POST /suggest HTTP/1.1\" 200 -\n",
      "192.168.0.89 - - [16/Oct/2021 01:46:05] \"POST /suggest HTTP/1.1\" 200 -\n",
      "192.168.0.89 - - [16/Oct/2021 01:46:06] \"POST / HTTP/1.1\" 200 -\n",
      "192.168.0.89 - - [16/Oct/2021 01:46:12] \"POST /suggest HTTP/1.1\" 200 -\n"
     ]
    },
    {
     "name": "stdout",
     "output_type": "stream",
     "text": [
      "resultsss c\\\n"
     ]
    },
    {
     "name": "stderr",
     "output_type": "stream",
     "text": [
      "[2021-10-16 01:46:12,820] ERROR in app: Exception on / [POST]\n",
      "Traceback (most recent call last):\n",
      "  File \"C:\\Users\\Josh\\Anaconda3\\lib\\site-packages\\flask\\app.py\", line 2446, in wsgi_app\n",
      "    response = self.full_dispatch_request()\n",
      "  File \"C:\\Users\\Josh\\Anaconda3\\lib\\site-packages\\flask\\app.py\", line 1951, in full_dispatch_request\n",
      "    rv = self.handle_user_exception(e)\n",
      "  File \"C:\\Users\\Josh\\Anaconda3\\lib\\site-packages\\flask\\app.py\", line 1820, in handle_user_exception\n",
      "    reraise(exc_type, exc_value, tb)\n",
      "  File \"C:\\Users\\Josh\\Anaconda3\\lib\\site-packages\\flask\\_compat.py\", line 39, in reraise\n",
      "    raise value\n",
      "  File \"C:\\Users\\Josh\\Anaconda3\\lib\\site-packages\\flask\\app.py\", line 1949, in full_dispatch_request\n",
      "    rv = self.dispatch_request()\n",
      "  File \"C:\\Users\\Josh\\Anaconda3\\lib\\site-packages\\flask\\app.py\", line 1935, in dispatch_request\n",
      "    return self.view_functions[rule.endpoint](**req.view_args)\n",
      "  File \"<ipython-input-24-9520d28423cc>\", line 51, in getQuery\n",
      "    return results(query)\n",
      "  File \"<ipython-input-24-9520d28423cc>\", line 39, in results\n",
      "    list_of_cannidates, clean_query = getResults(query,inverted_index)\n",
      "  File \"<ipython-input-5-3b896d433d4f>\", line 10, in getResults\n",
      "    list_of_documents = list(set.intersection(*map(set,list_of_documents)))\n",
      "TypeError: descriptor 'intersection' of 'set' object needs an argument\n",
      "192.168.0.89 - - [16/Oct/2021 01:46:12] \"POST / HTTP/1.1\" 500 -\n",
      "192.168.0.89 - - [16/Oct/2021 01:46:14] \"POST /suggest HTTP/1.1\" 200 -\n"
     ]
    }
   ],
   "source": [
    "app = Flask(__name__)\n",
    "from itertools import islice\n",
    "\n",
    "def take(n, iterable):\n",
    "    \"Return first n items of the iterable as a list\"\n",
    "    return list(islice(iterable, n))\n",
    "\n",
    "@app.route('/')\n",
    "def home():\n",
    "    return render_template(\"index.html\")\n",
    "\n",
    "@app.route('/ajax', methods = ['POST'])\n",
    "def returnHome():\n",
    "    print(\"homeeee\")\n",
    "    return redirect(\"index.html\")\n",
    "\n",
    "@app.route('/suggest', methods = ['POST'])\n",
    "def suggest():\n",
    "    \"\"\"Returns new df with queries that start with the query parameter. Sorted by frequency, excludes exact match.\"\"\"\n",
    "    query = request.form['myQuery']\n",
    "    sg = df2.loc[df2['Query'].str.startswith(query)]\n",
    "    sg = sg[sg['Query'] != query]\n",
    "    sg = sg.groupby(['Query']).size().reset_index(name='freq')\n",
    "    sg = sg.sort_values(by=['freq'],ascending=False)\n",
    "    data_dict = sg.head(5).to_dict()\n",
    "    return data_dict['Query']\n",
    "\n",
    "def build_results(data):\n",
    "    sorted_dict = dict(sorted(data.items(), key=lambda item: item[1], reverse=True))\n",
    "#     sorted_dict = dict(itertools.islice(data.items(), 10))\n",
    "    results = {}\n",
    "    for key in sorted_dict:\n",
    "        results[key] = {\"content\":df['content'][key-1], \"title\":df['title'][key-1]}\n",
    "    return results\n",
    "\n",
    "@app.route('/results')\n",
    "def results(query):\n",
    "    print(\"resultsss\", query)\n",
    "    list_of_cannidates, clean_query = getResults(query,inverted_index)\n",
    "    unsorted_dictionary_of_doc_probs = ranking(clean_query, list_of_cannidates, inverted_index)\n",
    "#     sorted_dict = dict(sorted(unsorted_dictionary_of_doc_probs.items(), key=lambda item: item[1]))\n",
    "#     sorted_dict = dict(itertools.islice(sorted_dict.items(), 10))\n",
    "#     print(sorted_dict)\n",
    "    results = build_results(unsorted_dictionary_of_doc_probs)\n",
    "    # results = {1: {\"content\":\"pizza\",\"title\":\"place to eat\" }, 2:{\"content\":\"hamburger\", \"title\": \"food\"}}    \n",
    "    return render_template(\"results.html\", query=clean_query, results = results, number_of_results = len(results))\n",
    "\n",
    "@app.route('/', methods=['POST'])\n",
    "def getQuery():\n",
    "    query = request.form['myQuery']\n",
    "    return results(query)\n",
    "    # return render_template(\"results.html\")\n",
    "    \n",
    "if __name__ == '__main__':\n",
    "    app.run(host=\"0.0.0.0\", port=5505)"
   ]
  },
  {
   "cell_type": "code",
   "execution_count": null,
   "id": "impressed-pastor",
   "metadata": {},
   "outputs": [],
   "source": []
  }
 ],
 "metadata": {
  "kernelspec": {
   "display_name": "Python 3",
   "language": "python",
   "name": "python3"
  },
  "language_info": {
   "codemirror_mode": {
    "name": "ipython",
    "version": 3
   },
   "file_extension": ".py",
   "mimetype": "text/x-python",
   "name": "python",
   "nbconvert_exporter": "python",
   "pygments_lexer": "ipython3",
   "version": "3.7.10"
  }
 },
 "nbformat": 4,
 "nbformat_minor": 5
}
