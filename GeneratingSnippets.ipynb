{
 "cells": [
  {
   "cell_type": "code",
   "execution_count": 64,
   "metadata": {},
   "outputs": [
    {
     "name": "stderr",
     "output_type": "stream",
     "text": [
      "[nltk_data] Downloading package punkt to\n",
      "[nltk_data]     C:\\Users\\Sam\\AppData\\Roaming\\nltk_data...\n",
      "[nltk_data]   Package punkt is already up-to-date!\n"
     ]
    },
    {
     "data": {
      "text/plain": [
       "True"
      ]
     },
     "execution_count": 64,
     "metadata": {},
     "output_type": "execute_result"
    }
   ],
   "source": [
    "import pandas as pd\n",
    "import sklearn as sk\n",
    "from sklearn.feature_extraction.text import TfidfVectorizer\n",
    "from sklearn.feature_extraction.text import CountVectorizer\n",
    "from sklearn.metrics.pairwise import cosine_similarity\n",
    "import nltk\n",
    "nltk.download('punkt')"
   ]
  },
  {
   "cell_type": "code",
   "execution_count": 2,
   "metadata": {},
   "outputs": [
    {
     "data": {
      "text/html": [
       "<div>\n",
       "<style scoped>\n",
       "    .dataframe tbody tr th:only-of-type {\n",
       "        vertical-align: middle;\n",
       "    }\n",
       "\n",
       "    .dataframe tbody tr th {\n",
       "        vertical-align: top;\n",
       "    }\n",
       "\n",
       "    .dataframe thead th {\n",
       "        text-align: right;\n",
       "    }\n",
       "</style>\n",
       "<table border=\"1\" class=\"dataframe\">\n",
       "  <thead>\n",
       "    <tr style=\"text-align: right;\">\n",
       "      <th></th>\n",
       "      <th>content</th>\n",
       "      <th>title</th>\n",
       "      <th>id</th>\n",
       "    </tr>\n",
       "  </thead>\n",
       "  <tbody>\n",
       "    <tr>\n",
       "      <th>0</th>\n",
       "      <td>Morocco–Saudi Arabia relations\\r\\n\\r\\nMoroccan...</td>\n",
       "      <td>Morocco–Saudi Arabia relations</td>\n",
       "      <td>1</td>\n",
       "    </tr>\n",
       "    <tr>\n",
       "      <th>1</th>\n",
       "      <td>Anthony United States Post Office\\r\\n\\r\\nThe A...</td>\n",
       "      <td>Anthony United States Post Office</td>\n",
       "      <td>2</td>\n",
       "    </tr>\n",
       "    <tr>\n",
       "      <th>2</th>\n",
       "      <td>Dumraon (Vidhan Sabha constituency)\\r\\n\\r\\nDum...</td>\n",
       "      <td>Dumraon  Vidhan Sabha constituency</td>\n",
       "      <td>3</td>\n",
       "    </tr>\n",
       "    <tr>\n",
       "      <th>3</th>\n",
       "      <td>Chaker Khazaal\\r\\n\\r\\nChaker Khazaal (born 28 ...</td>\n",
       "      <td>Chaker Khazaal</td>\n",
       "      <td>4</td>\n",
       "    </tr>\n",
       "    <tr>\n",
       "      <th>4</th>\n",
       "      <td>Vicente Pascual Pastor\\r\\n\\r\\nVicente Pascual ...</td>\n",
       "      <td>Vicente Pascual Pastor</td>\n",
       "      <td>5</td>\n",
       "    </tr>\n",
       "  </tbody>\n",
       "</table>\n",
       "</div>"
      ],
      "text/plain": [
       "                                             content  \\\n",
       "0  Morocco–Saudi Arabia relations\\r\\n\\r\\nMoroccan...   \n",
       "1  Anthony United States Post Office\\r\\n\\r\\nThe A...   \n",
       "2  Dumraon (Vidhan Sabha constituency)\\r\\n\\r\\nDum...   \n",
       "3  Chaker Khazaal\\r\\n\\r\\nChaker Khazaal (born 28 ...   \n",
       "4  Vicente Pascual Pastor\\r\\n\\r\\nVicente Pascual ...   \n",
       "\n",
       "                                 title  id  \n",
       "0       Morocco–Saudi Arabia relations   1  \n",
       "1    Anthony United States Post Office   2  \n",
       "2  Dumraon  Vidhan Sabha constituency    3  \n",
       "3                       Chaker Khazaal   4  \n",
       "4               Vicente Pascual Pastor   5  "
      ]
     },
     "execution_count": 2,
     "metadata": {},
     "output_type": "execute_result"
    }
   ],
   "source": [
    "df = pd.read_csv(\"project_1_Wiki_sample.csv\")\n",
    "df.head()"
   ]
  },
  {
   "cell_type": "code",
   "execution_count": 3,
   "metadata": {},
   "outputs": [
    {
     "data": {
      "text/plain": [
       "'Chaker Khazaal\\r\\n\\r\\nChaker Khazaal (born 28 September 1987 in Beirut, Lebanon) is a Palestinian-Canadian author and reporter born to Palestinian filmmaker Mahmoud Khazaal and socio-political activist mother Olfat Mahmoud. Khazaal grew up in Bourj el-Barajneh refugee camp near Beirut and at a young age, participated in several local plays and starred in the Palestinian film \"Sugar of Jaffa\". He is a third generation Palestinian refugee. He later immigrated to Canada and studied at York University as a 2005 recipient of the Global Leader of Tomorrow Award. He graduated in 2009 from York University with a B.A. in International Development Studies.\\r\\n\\r\\nKhazaal was named number one in the 100 Most Influential Arabs Under 40 by \"Arabian Business\" Magazine. \\r\\n\\r\\n\"Confessions of a War Child\" is a thriller romantic trilogy of fiction written by Khazaal inspired by true stories of war children around the world. The first part was published in 2013, under the main title followed by the second installment, subtitled \"Lia\" in 2014 and third part of the trilogy subtitled \"Sahara\" in 2015. In 2017, he published the novel \"Tale of Tara\" about the story of a Palestinian refugee from a camp in Lebanon to human traffickers in Europe where she becomes a prostitute and her meeting a bestselling New York writer and the intriguing relation between the two.\\r\\n\\r\\nChaker writes in the \"Huffington Post\" about various topics, mainly related to the Middle East and refugees. and speaks about refugee issues on mainstream media. He dedicated his \"Esquire\" Man of the Year Award to Aylan Kurdi, the Syrian refugee child who was found dead on a beach in Turkey. Khazaal founded a program that offers refugees and migrants contractual remote employment in e-marketing, graphics, social media management and web development. In December 2016, New York based NGO Bridges of Understanding awarded Khazaal the Global Trailblazer alongside Arianna Huffington. He served as the the Editor in Chief of StepFeed and YallaFeed online news site in 2017.'"
      ]
     },
     "execution_count": 3,
     "metadata": {},
     "output_type": "execute_result"
    }
   ],
   "source": [
    "df['content'][3]"
   ]
  },
  {
   "cell_type": "code",
   "execution_count": 4,
   "metadata": {},
   "outputs": [],
   "source": [
    "df = df.head()"
   ]
  },
  {
   "cell_type": "code",
   "execution_count": 115,
   "metadata": {},
   "outputs": [],
   "source": [
    "def GenerateSnippet(query, content):\n",
    "    \"\"\"Based on a query and a dataframe of relevant documents, returns a dictionary with two most relevant sentences based on cosine similarity\"\"\"\n",
    "\n",
    "    vectorizer = TfidfVectorizer()\n",
    "    \n",
    "    #Chops the content column up into neat little sentences\n",
    "    content = nltk.tokenize.sent_tokenize(content)\n",
    "    content = [x.replace('\\n','') for x in content]\n",
    "    content = [x.replace('\\r',' ') for x in content]\n",
    "\n",
    "    snippet = {}\n",
    "    #last resort ineffecient for loop incoming:\n",
    "    sentence1 =\" \"\n",
    "    sentence2 =\" \"\n",
    "    score1 = 0\n",
    "    score2 = 0\n",
    "    for sentence in content:\n",
    "        documents = [query,sentence]\n",
    "        sparse_matrix = vectorizer.fit_transform(documents)\n",
    "        score = cosine_similarity(sparse_matrix)[0,1]\n",
    "        #Compares the cosine score to the previous high. If higher, replace it.\n",
    "        if score > score1:\n",
    "            sentence1 = sentence\n",
    "            score1 = score\n",
    "        elif score > score2:\n",
    "            sentence2 = sentence\n",
    "            score2 = score\n",
    "        snippet['sentence1'] = sentence1\n",
    "        snippet['sentence2'] = sentence2\n",
    "    \n",
    "    return snippet"
   ]
  },
  {
   "cell_type": "code",
   "execution_count": 114,
   "metadata": {},
   "outputs": [
    {
     "data": {
      "text/html": [
       "<div>\n",
       "<style scoped>\n",
       "    .dataframe tbody tr th:only-of-type {\n",
       "        vertical-align: middle;\n",
       "    }\n",
       "\n",
       "    .dataframe tbody tr th {\n",
       "        vertical-align: top;\n",
       "    }\n",
       "\n",
       "    .dataframe thead th {\n",
       "        text-align: right;\n",
       "    }\n",
       "</style>\n",
       "<table border=\"1\" class=\"dataframe\">\n",
       "  <thead>\n",
       "    <tr style=\"text-align: right;\">\n",
       "      <th></th>\n",
       "      <th>title</th>\n",
       "      <th>sentence1</th>\n",
       "      <th>sentence2</th>\n",
       "    </tr>\n",
       "  </thead>\n",
       "  <tbody>\n",
       "    <tr>\n",
       "      <th>0</th>\n",
       "      <td>Morocco–Saudi Arabia relations</td>\n",
       "      <td>Saudi Arabia has recently supported Morocco ov...</td>\n",
       "      <td>Saudi Arabia, on the other side, also helps fu...</td>\n",
       "    </tr>\n",
       "    <tr>\n",
       "      <th>1</th>\n",
       "      <td>Anthony United States Post Office</td>\n",
       "      <td>It was deemed significant \"for its historical ...</td>\n",
       "      <td>The mural, \"Turning a Corner\", was painted by ...</td>\n",
       "    </tr>\n",
       "    <tr>\n",
       "      <th>2</th>\n",
       "      <td>Dumraon  Vidhan Sabha constituency</td>\n",
       "      <td></td>\n",
       "      <td></td>\n",
       "    </tr>\n",
       "    <tr>\n",
       "      <th>3</th>\n",
       "      <td>Chaker Khazaal</td>\n",
       "      <td>The first part was published in 2013, under th...</td>\n",
       "      <td>In 2017, he published the novel \"Tale of Tara\"...</td>\n",
       "    </tr>\n",
       "    <tr>\n",
       "      <th>4</th>\n",
       "      <td>Vicente Pascual Pastor</td>\n",
       "      <td>The great majority of the projects realized by...</td>\n",
       "      <td>Inside the social and industrial life of the c...</td>\n",
       "    </tr>\n",
       "  </tbody>\n",
       "</table>\n",
       "</div>"
      ],
      "text/plain": [
       "                                 title  \\\n",
       "0       Morocco–Saudi Arabia relations   \n",
       "1    Anthony United States Post Office   \n",
       "2  Dumraon  Vidhan Sabha constituency    \n",
       "3                       Chaker Khazaal   \n",
       "4               Vicente Pascual Pastor   \n",
       "\n",
       "                                           sentence1  \\\n",
       "0  Saudi Arabia has recently supported Morocco ov...   \n",
       "1  It was deemed significant \"for its historical ...   \n",
       "2                                                      \n",
       "3  The first part was published in 2013, under th...   \n",
       "4  The great majority of the projects realized by...   \n",
       "\n",
       "                                           sentence2  \n",
       "0  Saudi Arabia, on the other side, also helps fu...  \n",
       "1  The mural, \"Turning a Corner\", was painted by ...  \n",
       "2                                                     \n",
       "3  In 2017, he published the novel \"Tale of Tara\"...  \n",
       "4  Inside the social and industrial life of the c...  "
      ]
     },
     "execution_count": 114,
     "metadata": {},
     "output_type": "execute_result"
    }
   ],
   "source": [
    "testdf = GenerateSnippet(\"fried chicken\",df['content'][767511-1])\n",
    "testdf"
   ]
  },
  {
   "cell_type": "code",
   "execution_count": 110,
   "metadata": {},
   "outputs": [
    {
     "ename": "KeyError",
     "evalue": "'content'",
     "output_type": "error",
     "traceback": [
      "\u001b[1;31m---------------------------------------------------------------------------\u001b[0m",
      "\u001b[1;31mKeyError\u001b[0m                                  Traceback (most recent call last)",
      "\u001b[1;32m<ipython-input-110-0a95bbafc105>\u001b[0m in \u001b[0;36m<module>\u001b[1;34m\u001b[0m\n\u001b[0;32m      3\u001b[0m \u001b[0mvectorizer\u001b[0m \u001b[1;33m=\u001b[0m \u001b[0mTfidfVectorizer\u001b[0m\u001b[1;33m(\u001b[0m\u001b[1;33m)\u001b[0m\u001b[1;33m\u001b[0m\u001b[1;33m\u001b[0m\u001b[0m\n\u001b[0;32m      4\u001b[0m \u001b[0mquery\u001b[0m \u001b[1;33m=\u001b[0m \u001b[1;34m\"historical saudi grabage arabia\"\u001b[0m\u001b[1;33m\u001b[0m\u001b[1;33m\u001b[0m\u001b[0m\n\u001b[1;32m----> 5\u001b[1;33m \u001b[0msentence\u001b[0m \u001b[1;33m=\u001b[0m \u001b[0mtestdf\u001b[0m\u001b[1;33m[\u001b[0m\u001b[1;34m'content'\u001b[0m\u001b[1;33m]\u001b[0m\u001b[1;33m[\u001b[0m\u001b[1;36m0\u001b[0m\u001b[1;33m]\u001b[0m\u001b[1;33m[\u001b[0m\u001b[1;36m0\u001b[0m\u001b[1;33m]\u001b[0m\u001b[1;33m\u001b[0m\u001b[1;33m\u001b[0m\u001b[0m\n\u001b[0m\u001b[0;32m      6\u001b[0m \u001b[0mdocuments\u001b[0m \u001b[1;33m=\u001b[0m \u001b[1;33m[\u001b[0m\u001b[0mquery\u001b[0m\u001b[1;33m,\u001b[0m\u001b[0msentence\u001b[0m\u001b[1;33m]\u001b[0m\u001b[1;33m\u001b[0m\u001b[1;33m\u001b[0m\u001b[0m\n\u001b[0;32m      7\u001b[0m \u001b[1;33m\u001b[0m\u001b[0m\n",
      "\u001b[1;32m~\\anaconda3\\lib\\site-packages\\pandas\\core\\frame.py\u001b[0m in \u001b[0;36m__getitem__\u001b[1;34m(self, key)\u001b[0m\n\u001b[0;32m   2900\u001b[0m             \u001b[1;32mif\u001b[0m \u001b[0mself\u001b[0m\u001b[1;33m.\u001b[0m\u001b[0mcolumns\u001b[0m\u001b[1;33m.\u001b[0m\u001b[0mnlevels\u001b[0m \u001b[1;33m>\u001b[0m \u001b[1;36m1\u001b[0m\u001b[1;33m:\u001b[0m\u001b[1;33m\u001b[0m\u001b[1;33m\u001b[0m\u001b[0m\n\u001b[0;32m   2901\u001b[0m                 \u001b[1;32mreturn\u001b[0m \u001b[0mself\u001b[0m\u001b[1;33m.\u001b[0m\u001b[0m_getitem_multilevel\u001b[0m\u001b[1;33m(\u001b[0m\u001b[0mkey\u001b[0m\u001b[1;33m)\u001b[0m\u001b[1;33m\u001b[0m\u001b[1;33m\u001b[0m\u001b[0m\n\u001b[1;32m-> 2902\u001b[1;33m             \u001b[0mindexer\u001b[0m \u001b[1;33m=\u001b[0m \u001b[0mself\u001b[0m\u001b[1;33m.\u001b[0m\u001b[0mcolumns\u001b[0m\u001b[1;33m.\u001b[0m\u001b[0mget_loc\u001b[0m\u001b[1;33m(\u001b[0m\u001b[0mkey\u001b[0m\u001b[1;33m)\u001b[0m\u001b[1;33m\u001b[0m\u001b[1;33m\u001b[0m\u001b[0m\n\u001b[0m\u001b[0;32m   2903\u001b[0m             \u001b[1;32mif\u001b[0m \u001b[0mis_integer\u001b[0m\u001b[1;33m(\u001b[0m\u001b[0mindexer\u001b[0m\u001b[1;33m)\u001b[0m\u001b[1;33m:\u001b[0m\u001b[1;33m\u001b[0m\u001b[1;33m\u001b[0m\u001b[0m\n\u001b[0;32m   2904\u001b[0m                 \u001b[0mindexer\u001b[0m \u001b[1;33m=\u001b[0m \u001b[1;33m[\u001b[0m\u001b[0mindexer\u001b[0m\u001b[1;33m]\u001b[0m\u001b[1;33m\u001b[0m\u001b[1;33m\u001b[0m\u001b[0m\n",
      "\u001b[1;32m~\\anaconda3\\lib\\site-packages\\pandas\\core\\indexes\\range.py\u001b[0m in \u001b[0;36mget_loc\u001b[1;34m(self, key, method, tolerance)\u001b[0m\n\u001b[0;32m    356\u001b[0m                 \u001b[1;32mexcept\u001b[0m \u001b[0mValueError\u001b[0m \u001b[1;32mas\u001b[0m \u001b[0merr\u001b[0m\u001b[1;33m:\u001b[0m\u001b[1;33m\u001b[0m\u001b[1;33m\u001b[0m\u001b[0m\n\u001b[0;32m    357\u001b[0m                     \u001b[1;32mraise\u001b[0m \u001b[0mKeyError\u001b[0m\u001b[1;33m(\u001b[0m\u001b[0mkey\u001b[0m\u001b[1;33m)\u001b[0m \u001b[1;32mfrom\u001b[0m \u001b[0merr\u001b[0m\u001b[1;33m\u001b[0m\u001b[1;33m\u001b[0m\u001b[0m\n\u001b[1;32m--> 358\u001b[1;33m             \u001b[1;32mraise\u001b[0m \u001b[0mKeyError\u001b[0m\u001b[1;33m(\u001b[0m\u001b[0mkey\u001b[0m\u001b[1;33m)\u001b[0m\u001b[1;33m\u001b[0m\u001b[1;33m\u001b[0m\u001b[0m\n\u001b[0m\u001b[0;32m    359\u001b[0m         \u001b[1;32mreturn\u001b[0m \u001b[0msuper\u001b[0m\u001b[1;33m(\u001b[0m\u001b[1;33m)\u001b[0m\u001b[1;33m.\u001b[0m\u001b[0mget_loc\u001b[0m\u001b[1;33m(\u001b[0m\u001b[0mkey\u001b[0m\u001b[1;33m,\u001b[0m \u001b[0mmethod\u001b[0m\u001b[1;33m=\u001b[0m\u001b[0mmethod\u001b[0m\u001b[1;33m,\u001b[0m \u001b[0mtolerance\u001b[0m\u001b[1;33m=\u001b[0m\u001b[0mtolerance\u001b[0m\u001b[1;33m)\u001b[0m\u001b[1;33m\u001b[0m\u001b[1;33m\u001b[0m\u001b[0m\n\u001b[0;32m    360\u001b[0m \u001b[1;33m\u001b[0m\u001b[0m\n",
      "\u001b[1;31mKeyError\u001b[0m: 'content'"
     ]
    }
   ],
   "source": [
    "#You can ignore this, this is me testing out the cosine similarity methoed.\n",
    "\n",
    "vectorizer = TfidfVectorizer()\n",
    "query = \"historical saudi grabage arabia\"\n",
    "sentence = testdf['content'][0][0]\n",
    "documents = [query,sentence]\n",
    "\n",
    "sparse_matrix = vectorizer.fit_transform(documents)\n",
    "sparse_matrix = [(0.5, 0.8, 0.3),(1.5, 1.0, 0)]\n",
    "\n",
    "#response1 = vectorizer.fit_transform([query, df['content'][0]])\n",
    "#response2 = vectorizer.fit_transform([sentence, df['content'][0]])\n",
    "\n",
    "print(cosine_similarity(sparse_matrix)[0,1])\n",
    "print(documents)"
   ]
  },
  {
   "cell_type": "code",
   "execution_count": null,
   "metadata": {},
   "outputs": [],
   "source": []
  },
  {
   "cell_type": "code",
   "execution_count": null,
   "metadata": {},
   "outputs": [],
   "source": []
  },
  {
   "cell_type": "code",
   "execution_count": null,
   "metadata": {},
   "outputs": [],
   "source": []
  },
  {
   "cell_type": "code",
   "execution_count": null,
   "metadata": {},
   "outputs": [],
   "source": []
  },
  {
   "cell_type": "code",
   "execution_count": null,
   "metadata": {},
   "outputs": [],
   "source": []
  }
 ],
 "metadata": {
  "kernelspec": {
   "display_name": "Python 3",
   "language": "python",
   "name": "python3"
  },
  "language_info": {
   "codemirror_mode": {
    "name": "ipython",
    "version": 3
   },
   "file_extension": ".py",
   "mimetype": "text/x-python",
   "name": "python",
   "nbconvert_exporter": "python",
   "pygments_lexer": "ipython3",
   "version": "3.8.5"
  }
 },
 "nbformat": 4,
 "nbformat_minor": 4
}
