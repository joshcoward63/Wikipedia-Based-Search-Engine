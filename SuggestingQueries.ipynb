{
 "cells": [
  {
   "cell_type": "code",
   "execution_count": 21,
   "metadata": {},
   "outputs": [],
   "source": [
    "import pandas as pd\n",
    "import datetime"
   ]
  },
  {
   "cell_type": "code",
   "execution_count": 81,
   "metadata": {
    "scrolled": true
   },
   "outputs": [
    {
     "data": {
      "text/plain": [
       "3942354"
      ]
     },
     "execution_count": 81,
     "metadata": {},
     "output_type": "execute_result"
    }
   ],
   "source": [
    "df = pd.read_csv(\"project_1_AOL_query_log\\Clean-Data-01.txt\",sep='\\t')\n",
    "df = df.append(pd.read_csv(\"project_1_AOL_query_log\\Clean-Data-02.txt\",sep='\\t'))\n",
    "df = df.append(pd.read_csv(\"project_1_AOL_query_log\\Clean-Data-03.txt\",sep='\\t'))\n",
    "df = df.append(pd.read_csv(\"project_1_AOL_query_log\\Clean-Data-04.txt\",sep='\\t'))\n",
    "df = df.append(pd.read_csv(\"project_1_AOL_query_log\\Clean-Data-05.txt\",sep='\\t'))\n",
    "len(df.index)"
   ]
  },
  {
   "cell_type": "code",
   "execution_count": 82,
   "metadata": {},
   "outputs": [
    {
     "data": {
      "text/plain": [
       "AnonID                int64\n",
       "Query                object\n",
       "QueryTime    datetime64[ns]\n",
       "dtype: object"
      ]
     },
     "execution_count": 82,
     "metadata": {},
     "output_type": "execute_result"
    }
   ],
   "source": [
    "df[\"Query\"] = df[\"Query\"].astype(str)\n",
    "df[\"QueryTime\"]= pd.to_datetime(df[\"QueryTime\"])\n",
    "df.dtypes"
   ]
  },
  {
   "cell_type": "code",
   "execution_count": 83,
   "metadata": {},
   "outputs": [],
   "source": [
    "def suggest(query):\n",
    "    \"\"\"Returns new df with queries that start with the query parameter. Sorted by frequency, excludes exact match.\"\"\"\n",
    "    sg = df.loc[df['Query'].str.startswith(query)]\n",
    "    sg = sg[sg['Query'] != query]\n",
    "    sg = sg.groupby(['Query']).size().reset_index(name='freq')\n",
    "    sg = sg.sort_values(by=['freq'],ascending=False)\n",
    "    return sg"
   ]
  },
  {
   "cell_type": "code",
   "execution_count": 85,
   "metadata": {},
   "outputs": [
    {
     "data": {
      "text/html": [
       "<div>\n",
       "<style scoped>\n",
       "    .dataframe tbody tr th:only-of-type {\n",
       "        vertical-align: middle;\n",
       "    }\n",
       "\n",
       "    .dataframe tbody tr th {\n",
       "        vertical-align: top;\n",
       "    }\n",
       "\n",
       "    .dataframe thead th {\n",
       "        text-align: right;\n",
       "    }\n",
       "</style>\n",
       "<table border=\"1\" class=\"dataframe\">\n",
       "  <thead>\n",
       "    <tr style=\"text-align: right;\">\n",
       "      <th></th>\n",
       "      <th>Query</th>\n",
       "      <th>freq</th>\n",
       "    </tr>\n",
       "  </thead>\n",
       "  <tbody>\n",
       "    <tr>\n",
       "      <th>111</th>\n",
       "      <td>pizza hut</td>\n",
       "      <td>546</td>\n",
       "    </tr>\n",
       "    <tr>\n",
       "      <th>121</th>\n",
       "      <td>pizza hut coupons</td>\n",
       "      <td>18</td>\n",
       "    </tr>\n",
       "    <tr>\n",
       "      <th>65</th>\n",
       "      <td>pizza dough</td>\n",
       "      <td>18</td>\n",
       "    </tr>\n",
       "    <tr>\n",
       "      <th>242</th>\n",
       "      <td>pizza pan</td>\n",
       "      <td>10</td>\n",
       "    </tr>\n",
       "    <tr>\n",
       "      <th>49</th>\n",
       "      <td>pizza delivery</td>\n",
       "      <td>10</td>\n",
       "    </tr>\n",
       "    <tr>\n",
       "      <th>...</th>\n",
       "      <td>...</td>\n",
       "      <td>...</td>\n",
       "    </tr>\n",
       "    <tr>\n",
       "      <th>122</th>\n",
       "      <td>pizza hut coupons printable</td>\n",
       "      <td>1</td>\n",
       "    </tr>\n",
       "    <tr>\n",
       "      <th>120</th>\n",
       "      <td>pizza hut coupon codes</td>\n",
       "      <td>1</td>\n",
       "    </tr>\n",
       "    <tr>\n",
       "      <th>119</th>\n",
       "      <td>pizza hut corporate</td>\n",
       "      <td>1</td>\n",
       "    </tr>\n",
       "    <tr>\n",
       "      <th>118</th>\n",
       "      <td>pizza hut cavatina casserole recipe</td>\n",
       "      <td>1</td>\n",
       "    </tr>\n",
       "    <tr>\n",
       "      <th>328</th>\n",
       "      <td>pizza xxx</td>\n",
       "      <td>1</td>\n",
       "    </tr>\n",
       "  </tbody>\n",
       "</table>\n",
       "<p>329 rows × 2 columns</p>\n",
       "</div>"
      ],
      "text/plain": [
       "                                   Query  freq\n",
       "111                            pizza hut   546\n",
       "121                    pizza hut coupons    18\n",
       "65                           pizza dough    18\n",
       "242                            pizza pan    10\n",
       "49                        pizza delivery    10\n",
       "..                                   ...   ...\n",
       "122          pizza hut coupons printable     1\n",
       "120               pizza hut coupon codes     1\n",
       "119                  pizza hut corporate     1\n",
       "118  pizza hut cavatina casserole recipe     1\n",
       "328                            pizza xxx     1\n",
       "\n",
       "[329 rows x 2 columns]"
      ]
     },
     "execution_count": 85,
     "metadata": {},
     "output_type": "execute_result"
    }
   ],
   "source": [
    "suggest(\"pizza\")"
   ]
  },
  {
   "cell_type": "code",
   "execution_count": null,
   "metadata": {},
   "outputs": [],
   "source": []
  }
 ],
 "metadata": {
  "kernelspec": {
   "display_name": "Python 3",
   "language": "python",
   "name": "python3"
  },
  "language_info": {
   "codemirror_mode": {
    "name": "ipython",
    "version": 3
   },
   "file_extension": ".py",
   "mimetype": "text/x-python",
   "name": "python",
   "nbconvert_exporter": "python",
   "pygments_lexer": "ipython3",
   "version": "3.8.5"
  }
 },
 "nbformat": 4,
 "nbformat_minor": 4
}
